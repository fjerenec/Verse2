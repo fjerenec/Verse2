{
 "cells": [
  {
   "cell_type": "code",
   "execution_count": 1,
   "metadata": {},
   "outputs": [],
   "source": [
    "import numpy as np\n",
    "import matplotlib.pyplot as plt"
   ]
  },
  {
   "cell_type": "code",
   "execution_count": 50,
   "metadata": {},
   "outputs": [],
   "source": [
    "x_disc = np.arange(0,201,1)\n",
    "y_disc = np.arange(0,31,1)"
   ]
  },
  {
   "cell_type": "code",
   "execution_count": 60,
   "metadata": {},
   "outputs": [
    {
     "data": {
      "text/plain": [
       "array([ 0,  2,  4,  6,  8, 10, 12, 14, 16, 18, 20, 22, 24, 26, 28, 30, 32,\n",
       "       34, 36, 38, 40, 42, 44, 46, 48, 50, 52, 54, 56, 58, 60])"
      ]
     },
     "execution_count": 60,
     "metadata": {},
     "output_type": "execute_result"
    }
   ],
   "source": [
    "y_coords\n"
   ]
  },
  {
   "cell_type": "code",
   "execution_count": 52,
   "metadata": {},
   "outputs": [],
   "source": [
    "dx = 2\n",
    "dy = 2\n",
    "x_coords = x_disc * dx\n",
    "y_coords = y_disc * dy"
   ]
  },
  {
   "cell_type": "code",
   "execution_count": 53,
   "metadata": {},
   "outputs": [
    {
     "data": {
      "text/plain": [
       "array([ 0,  2,  4,  6,  8, 10, 12, 14, 16, 18, 20, 22, 24, 26, 28, 30, 32,\n",
       "       34, 36, 38, 40, 42, 44, 46, 48, 50, 52, 54, 56, 58, 60])"
      ]
     },
     "execution_count": 53,
     "metadata": {},
     "output_type": "execute_result"
    }
   ],
   "source": [
    "y_coords"
   ]
  },
  {
   "cell_type": "code",
   "execution_count": 43,
   "metadata": {},
   "outputs": [],
   "source": [
    "grid = np.meshgrid(x_coords,y_coords)"
   ]
  },
  {
   "cell_type": "code",
   "execution_count": 62,
   "metadata": {},
   "outputs": [],
   "source": [
    "coordVec = np. column_stack((grid[0].flatten(),grid[1].flatten()))"
   ]
  },
  {
   "cell_type": "code",
   "execution_count": 45,
   "metadata": {},
   "outputs": [
    {
     "data": {
      "text/plain": [
       "<matplotlib.collections.PathCollection at 0x124316190>"
      ]
     },
     "execution_count": 45,
     "metadata": {},
     "output_type": "execute_result"
    },
    {
     "data": {
      "image/png": "[encoded data removed]",
      "text/plain": [
       "<Figure size 640x480 with 1 Axes>"
      ]
     },
     "metadata": {},
     "output_type": "display_data"
    }
   ],
   "source": [
    "# arr1 = []\n",
    "# arr2 = []\n",
    "# arr3 = []\n",
    "# arr4 = []\n",
    "# arr5 = []\n",
    "# arr6 = []\n",
    "# arr7 = []\n",
    "# arr8 = []\n",
    "# arr9 = []\n",
    "# arr10 = []\n",
    "# radius1 = np.random.rand(1)*0.0051\n",
    "# radius2 = np.random.rand(1)*0.0051\n",
    "# radius3 = np.random.rand(1)*0.0051\n",
    "# radius4 = np.random.rand(1)*0.0051\n",
    "# radius5 = np.random.rand(1)*0.0051\n",
    "# radius6 = np.random.rand(1)*0.0051\n",
    "# radius7 = np.random.rand(1)*0.0051\n",
    "# radius8 = np.random.rand(1)*0.0051\n",
    "# radius9 = np.random.rand(1)*0.0051\n",
    "# radius10 = np.random.rand(1)*0.0051\n",
    "# random_xpos = np.random.rand(10) * 0.04\n",
    "# random_ypos = np.random.rand(10) * 0.02\n",
    "# for i, point in enumerate(coordVec):\n",
    "#     distance1 = ((random_xpos[0] - point[0])**2 + (random_ypos[0] - point[1])**2)**0.5\n",
    "#     distance2 = ((random_xpos[1] - point[0])**2 + (random_ypos[1] - point[1])**2)**0.5\n",
    "#     distance3 = ((random_xpos[2] - point[0])**2 + (random_ypos[2] - point[1])**2)**0.5\n",
    "#     distance4 = ((random_xpos[3] - point[0])**2 + (random_ypos[3]- point[1])**2)**0.5\n",
    "#     distance5 = ((random_xpos[4] - point[0])**2 + (random_ypos[4] - point[1])**2)**0.5\n",
    "#     distance6 = ((random_xpos[5] - point[0])**2 + (random_ypos[5] - point[1])**2)**0.5\n",
    "#     distance7 = ((random_xpos[6] - point[0])**2 + (random_ypos[6] - point[1])**2)**0.5\n",
    "#     distance8 = ((random_xpos[7] - point[0])**2 + (random_ypos[7] - point[1])**2)**0.5\n",
    "#     distance9 = ((random_xpos[8] - point[0])**2 + (random_ypos[8] - point[1])**2)**0.5\n",
    "#     distance10 = ((random_xpos[9] - point[0])**2 + (random_ypos[9] - point[1])**2)**0.5\n",
    "#     if distance1 <= radius1:\n",
    "#         arr1.append(i)\n",
    "#     if distance2 <= radius2:\n",
    "#         arr2.append(i)\n",
    "#     if distance3 <= radius3:\n",
    "#         arr3.append(i)\n",
    "#     if distance4 <= radius4:\n",
    "#         arr4.append(i)\n",
    "#     if distance5 <= radius5:\n",
    "#         arr5.append(i)\n",
    "#     if distance6 <= radius6:\n",
    "#         arr6.append(i)\n",
    "#     if distance7 <= radius7:\n",
    "#         arr7.append(i)\n",
    "#     if distance8 <= radius8:\n",
    "#         arr8.append(i)\n",
    "#     if distance9 <= radius9:\n",
    "#         arr9.append(i)\n",
    "#     if distance10 <= radius10:\n",
    "#         arr10.append(i)\n",
    "fig = plt.figure()\n",
    "ax = fig.add_subplot()\n",
    "ax.scatter(coordVec[:,0],coordVec[:,1],s=0.01)\n",
    "# ax.scatter(coordVec[arr1,0],coordVec[arr1,1],s=0.01)\n",
    "# ax.scatter(coordVec[arr2,0],coordVec[arr2,1],s=0.01)\n",
    "# ax.scatter(coordVec[arr3,0],coordVec[arr3,1],s=0.01)\n",
    "# ax.scatter(coordVec[arr4,0],coordVec[arr4,1],s=0.01)\n",
    "# ax.scatter(coordVec[arr5,0],coordVec[arr5,1],s=0.01)\n",
    "# ax.scatter(coordVec[arr6,0],coordVec[arr6,1],s=0.01)\n",
    "# ax.scatter(coordVec[arr7,0],coordVec[arr7,1],s=0.01)\n",
    "# ax.scatter(coordVec[arr8,0],coordVec[arr8,1],s=0.01)\n",
    "# ax.scatter(coordVec[arr9,0],coordVec[arr9,1],s=0.01)\n",
    "# ax.scatter(coordVec[arr10,0],coordVec[arr10,1],s=0.01)\n",
    "ax.set_aspect(1)\n",
    "volumes = np.full_like(coordVec[:,0],dx*dy)\n",
    "ax.scatter(coordVec[range(3*100),0],coordVec[range(3*100),1],s=0.2)"
   ]
  },
  {
   "cell_type": "code",
   "execution_count": 46,
   "metadata": {},
   "outputs": [],
   "source": [
    "# inclusions_ids = list(set(arr1+arr2+arr3+arr4+arr5+arr6+arr7+arr8+arr9+arr10))\n",
    "# matrix_id_set = set(np.arange(0,coordVec.shape[0]))-set(inclusions_ids)"
   ]
  },
  {
   "cell_type": "code",
   "execution_count": 47,
   "metadata": {},
   "outputs": [],
   "source": [
    "np.savetxt(\"DCB-coordVec2.txt\",coordVec)\n",
    "np.savetxt(\"DCB-volumes2.txt\",volumes)\n",
    "# np.savetxt(\"inclusionPlate-inclusionIds.txt\",inclusions_ids)\n",
    "# np.savetxt(\"inclusionPlate-matrixIds.txt\",np.array(list(matrix_id_set),dtype=int))"
   ]
  },
  {
   "cell_type": "code",
   "execution_count": null,
   "metadata": {},
   "outputs": [],
   "source": []
  }
 ],
 "metadata": {
  "kernelspec": {
   "display_name": "PDenv",
   "language": "python",
   "name": "python3"
  },
  "language_info": {
   "codemirror_mode": {
    "name": "ipython",
    "version": 3
   },
   "file_extension": ".py",
   "mimetype": "text/x-python",
   "name": "python",
   "nbconvert_exporter": "python",
   "pygments_lexer": "ipython3",
   "version": "3.11.6"
  }
 },
 "nbformat": 4,
 "nbformat_minor": 2
}
