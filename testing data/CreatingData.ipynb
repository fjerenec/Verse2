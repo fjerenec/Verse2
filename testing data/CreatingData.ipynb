{
 "cells": [
  {
   "cell_type": "code",
   "execution_count": 1,
   "metadata": {},
   "outputs": [],
   "source": [
    "import numpy as np\n",
    "import matplotlib.pyplot as plt"
   ]
  },
  {
   "cell_type": "code",
   "execution_count": 135,
   "metadata": {},
   "outputs": [],
   "source": [
    "x_disc_top = np.arange(0,52,2)\n",
    "y_disc_top = np.arange(50,75,2)\n",
    "x_disc_mid = np.arange(0,51,1)\n",
    "y_disc_mid = np.arange(25.5,49,1)\n",
    "x_disc_bot = np.arange(0,52,2)\n",
    "y_disc_bot = np.arange(0,25,2)"
   ]
  },
  {
   "cell_type": "code",
   "execution_count": 139,
   "metadata": {},
   "outputs": [],
   "source": [
    "dx = 1\n",
    "dy = 1\n",
    "x_coords_top = x_disc_top * dx\n",
    "y_coords_top = y_disc_top * dy\n",
    "\n",
    "x_coords_mid = x_disc_mid * dx\n",
    "y_coords_mid = y_disc_mid * dy\n",
    "\n",
    "x_coords_bot = x_disc_bot * dx\n",
    "y_coords_bot = y_disc_bot * dy"
   ]
  },
  {
   "cell_type": "code",
   "execution_count": 140,
   "metadata": {},
   "outputs": [],
   "source": [
    "grid_top = np.meshgrid(x_coords_top,y_coords_top)\n",
    "grid_mid = np.meshgrid(x_coords_mid,y_coords_mid)\n",
    "grid_bot = np.meshgrid(x_coords_bot,y_coords_bot)"
   ]
  },
  {
   "cell_type": "code",
   "execution_count": 141,
   "metadata": {},
   "outputs": [],
   "source": [
    "coordVec_top = np. column_stack((grid_top[0].flatten(),grid_top[1].flatten()))\n",
    "coordVec_mid = np. column_stack((grid_mid[0].flatten(),grid_mid[1].flatten()))\n",
    "coordVec_bot = np. column_stack((grid_bot[0].flatten(),grid_bot[1].flatten()))"
   ]
  },
  {
   "cell_type": "code",
   "execution_count": 142,
   "metadata": {},
   "outputs": [
    {
     "data": {
      "text/plain": [
       "24"
      ]
     },
     "execution_count": 142,
     "metadata": {},
     "output_type": "execute_result"
    }
   ],
   "source": [
    "coordVec_bot[:,1].max()"
   ]
  },
  {
   "cell_type": "code",
   "execution_count": 143,
   "metadata": {},
   "outputs": [
    {
     "data": {
      "text/plain": [
       "(50, 50.0, 50)"
      ]
     },
     "execution_count": 143,
     "metadata": {},
     "output_type": "execute_result"
    }
   ],
   "source": [
    "coordVec_top[:,0].max(),coordVec_mid[:,0].max(),coordVec_bot[:,0].max()"
   ]
  },
  {
   "cell_type": "code",
   "execution_count": 144,
   "metadata": {},
   "outputs": [
    {
     "data": {
      "text/plain": [
       "(1900, 2)"
      ]
     },
     "execution_count": 144,
     "metadata": {},
     "output_type": "execute_result"
    }
   ],
   "source": [
    "coordVec = np.append(coordVec_bot,coordVec_mid,axis=0)\n",
    "coordVec = np.append(coordVec,coordVec_top,axis=0)\n",
    "coordVec.shape"
   ]
  },
  {
   "cell_type": "code",
   "execution_count": 149,
   "metadata": {},
   "outputs": [
    {
     "data": {
      "text/plain": [
       "(-2.5, 52.5, -3.7, 77.7)"
      ]
     },
     "execution_count": 149,
     "metadata": {},
     "output_type": "execute_result"
    },
    {
     "data": {
      "image/png": "[encoded data removed]",
      "text/plain": [
       "<Figure size 640x480 with 1 Axes>"
      ]
     },
     "metadata": {},
     "output_type": "display_data"
    }
   ],
   "source": [
    "plt.scatter(coordVec_top[:,0],coordVec_top[:,1],s=0.5)\n",
    "plt.scatter(coordVec_mid[:,0],coordVec_mid[:,1],s=0.1)\n",
    "plt.scatter(coordVec_bot[:,0],coordVec_bot[:,1],s=0.5)\n",
    "plt.axis(\"equal\")"
   ]
  },
  {
   "cell_type": "code",
   "execution_count": 146,
   "metadata": {},
   "outputs": [],
   "source": [
    "volumes_top = np.full_like(coordVec_top[:,0],4)\n",
    "volumes_mid = np.full_like(coordVec_mid[:,0],1)\n",
    "volumes_bot = np.full_like(coordVec_bot[:,0],4)"
   ]
  },
  {
   "cell_type": "code",
   "execution_count": 147,
   "metadata": {},
   "outputs": [],
   "source": [
    "volumes = np.append(volumes_bot,volumes_mid,axis=0)\n",
    "volumes = np.append(volumes,volumes_top,axis=0)"
   ]
  },
  {
   "cell_type": "code",
   "execution_count": 37,
   "metadata": {},
   "outputs": [
    {
     "data": {
      "text/plain": [
       "<matplotlib.collections.PathCollection at 0x23bd55a66a0>"
      ]
     },
     "execution_count": 37,
     "metadata": {},
     "output_type": "execute_result"
    },
    {
     "data": {
      "image/png": "[encoded data removed]",
      "text/plain": [
       "<Figure size 640x480 with 1 Axes>"
      ]
     },
     "metadata": {},
     "output_type": "display_data"
    }
   ],
   "source": [
    "# arr1 = []\n",
    "# arr2 = []\n",
    "# arr3 = []\n",
    "# arr4 = []\n",
    "# arr5 = []\n",
    "# arr6 = []\n",
    "# arr7 = []\n",
    "# arr8 = []\n",
    "# arr9 = []\n",
    "# arr10 = []\n",
    "# radius1 = np.random.rand(1)*0.0051\n",
    "# radius2 = np.random.rand(1)*0.0051\n",
    "# radius3 = np.random.rand(1)*0.0051\n",
    "# radius4 = np.random.rand(1)*0.0051\n",
    "# radius5 = np.random.rand(1)*0.0051\n",
    "# radius6 = np.random.rand(1)*0.0051\n",
    "# radius7 = np.random.rand(1)*0.0051\n",
    "# radius8 = np.random.rand(1)*0.0051\n",
    "# radius9 = np.random.rand(1)*0.0051\n",
    "# radius10 = np.random.rand(1)*0.0051\n",
    "# random_xpos = np.random.rand(10) * 0.04\n",
    "# random_ypos = np.random.rand(10) * 0.02\n",
    "# for i, point in enumerate(coordVec):\n",
    "#     distance1 = ((random_xpos[0] - point[0])**2 + (random_ypos[0] - point[1])**2)**0.5\n",
    "#     distance2 = ((random_xpos[1] - point[0])**2 + (random_ypos[1] - point[1])**2)**0.5\n",
    "#     distance3 = ((random_xpos[2] - point[0])**2 + (random_ypos[2] - point[1])**2)**0.5\n",
    "#     distance4 = ((random_xpos[3] - point[0])**2 + (random_ypos[3]- point[1])**2)**0.5\n",
    "#     distance5 = ((random_xpos[4] - point[0])**2 + (random_ypos[4] - point[1])**2)**0.5\n",
    "#     distance6 = ((random_xpos[5] - point[0])**2 + (random_ypos[5] - point[1])**2)**0.5\n",
    "#     distance7 = ((random_xpos[6] - point[0])**2 + (random_ypos[6] - point[1])**2)**0.5\n",
    "#     distance8 = ((random_xpos[7] - point[0])**2 + (random_ypos[7] - point[1])**2)**0.5\n",
    "#     distance9 = ((random_xpos[8] - point[0])**2 + (random_ypos[8] - point[1])**2)**0.5\n",
    "#     distance10 = ((random_xpos[9] - point[0])**2 + (random_ypos[9] - point[1])**2)**0.5\n",
    "#     if distance1 <= radius1:\n",
    "#         arr1.append(i)\n",
    "#     if distance2 <= radius2:\n",
    "#         arr2.append(i)\n",
    "#     if distance3 <= radius3:\n",
    "#         arr3.append(i)\n",
    "#     if distance4 <= radius4:\n",
    "#         arr4.append(i)\n",
    "#     if distance5 <= radius5:\n",
    "#         arr5.append(i)\n",
    "#     if distance6 <= radius6:\n",
    "#         arr6.append(i)\n",
    "#     if distance7 <= radius7:\n",
    "#         arr7.append(i)\n",
    "#     if distance8 <= radius8:\n",
    "#         arr8.append(i)\n",
    "#     if distance9 <= radius9:\n",
    "#         arr9.append(i)\n",
    "#     if distance10 <= radius10:\n",
    "#         arr10.append(i)\n",
    "fig = plt.figure()\n",
    "ax = fig.add_subplot()\n",
    "ax.scatter(coordVec[:,0],coordVec[:,1],s=0.01)\n",
    "# ax.scatter(coordVec[arr1,0],coordVec[arr1,1],s=0.01)\n",
    "# ax.scatter(coordVec[arr2,0],coordVec[arr2,1],s=0.01)\n",
    "# ax.scatter(coordVec[arr3,0],coordVec[arr3,1],s=0.01)\n",
    "# ax.scatter(coordVec[arr4,0],coordVec[arr4,1],s=0.01)\n",
    "# ax.scatter(coordVec[arr5,0],coordVec[arr5,1],s=0.01)\n",
    "# ax.scatter(coordVec[arr6,0],coordVec[arr6,1],s=0.01)\n",
    "# ax.scatter(coordVec[arr7,0],coordVec[arr7,1],s=0.01)\n",
    "# ax.scatter(coordVec[arr8,0],coordVec[arr8,1],s=0.01)\n",
    "# ax.scatter(coordVec[arr9,0],coordVec[arr9,1],s=0.01)\n",
    "# ax.scatter(coordVec[arr10,0],coordVec[arr10,1],s=0.01)\n",
    "ax.set_aspect(1)\n",
    "volumes = np.full_like(coordVec[:,0],dx*dy)\n",
    "ax.scatter(coordVec[range(3*100),0],coordVec[range(3*100),1],s=0.2)"
   ]
  },
  {
   "cell_type": "code",
   "execution_count": 46,
   "metadata": {},
   "outputs": [],
   "source": [
    "# inclusions_ids = list(set(arr1+arr2+arr3+arr4+arr5+arr6+arr7+arr8+arr9+arr10))\n",
    "# matrix_id_set = set(np.arange(0,coordVec.shape[0]))-set(inclusions_ids)"
   ]
  },
  {
   "cell_type": "code",
   "execution_count": 148,
   "metadata": {},
   "outputs": [],
   "source": [
    "np.savetxt(\"Irregular_coordvec.txt\",coordVec)\n",
    "np.savetxt(\"Irregular_volumes.txt\",volumes)\n",
    "# np.savetxt(\"inclusionPlate-inclusionIds.txt\",inclusions_ids)\n",
    "# np.savetxt(\"inclusionPlate-matrixIds.txt\",np.array(list(matrix_id_set),dtype=int))"
   ]
  },
  {
   "cell_type": "code",
   "execution_count": null,
   "metadata": {},
   "outputs": [],
   "source": []
  }
 ],
 "metadata": {
  "kernelspec": {
   "display_name": "PDenv",
   "language": "python",
   "name": "python3"
  },
  "language_info": {
   "codemirror_mode": {
    "name": "ipython",
    "version": 3
   },
   "file_extension": ".py",
   "mimetype": "text/x-python",
   "name": "python",
   "nbconvert_exporter": "python",
   "pygments_lexer": "ipython3",
   "version": "3.9.5"
  }
 },
 "nbformat": 4,
 "nbformat_minor": 2
}
