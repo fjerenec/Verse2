{
 "cells": [
  {
   "cell_type": "code",
   "execution_count": 1,
   "metadata": {},
   "outputs": [],
   "source": [
    "import sys\n",
    "import os\n",
    "sys.path.append(os.path.abspath(os.path.join(\"..\", \"src\")))\n",
    "\n",
    "from modules.NumericalModel import NumericalModel\n",
    "from modules.PDFatigueModel import FatigueInputData, PDFatigueSolver\n",
    "import numpy as np\n",
    "import matplotlib.pyplot as plt\n",
    "import libs.pddopyW2 as pddo"
   ]
  },
  {
   "cell_type": "markdown",
   "metadata": {},
   "source": [
    "## \"NumericalModel\" class\n",
    "The \"NumericalModel\" type is somprised of so called \"modules\". These modules are\n",
    "1. Geometry module          ->  NumericalModel.Geometry\n",
    "2. Discretisations module   ->  NumericalModel.Discretisations\n",
    "3. Materials module         ->  NumericalModel.Materials\n",
    "4. Interactions module      ->  NumericalModel.Interactions\n",
    "\n",
    "Each module has its own main class with the same name as the module.\\\n",
    "The module itself (as in the file where the code is stored) is named with NON-prime letters, while the class inside is primed!\n",
    "\n",
    "To explain this further it is shown below that the class from each module is imported into the \"NumericalModel\" type in the following way:\n",
    "\n",
    "class NumericalModel(): \n",
    "\n",
    "    def __init__(self,name: str = \"Model\") -> None:\n",
    "        self.name = name\n",
    "        self.Geometry = geometry.Geometry()\n",
    "        self.Materials= material.Materials()\n",
    "        self.Loads = loads.BoundaryCons()\n",
    "        self.Discretizations = disretization.Discretizations()\n",
    "        self.Interactions = interactions.Interactions()\n",
    "        self.SimulationSettings = simulation_settings.SimulationSettings()\n",
    "\n",
    "This way, when we call a module in the \"NumericalModel\" instance we directly call the main class if the module with the same name.\\\n",
    "Each of the module classes will be explained during their use!"
   ]
  },
  {
   "cell_type": "markdown",
   "metadata": {},
   "source": [
    "## Create a \"NumericalModel\" instance"
   ]
  },
  {
   "cell_type": "code",
   "execution_count": 2,
   "metadata": {},
   "outputs": [],
   "source": [
    "# Create a NumericalModel\n",
    "model0 = NumericalModel()"
   ]
  },
  {
   "cell_type": "markdown",
   "metadata": {},
   "source": [
    "## Geometry module\n",
    "\n",
    "The geometry module is meant to hold the points that define the whole model. Each point is created as a \"PartNodes\" type and is saved in the \"part_nodes: PartNodes\" attribute of the Geometry class.\\\n",
    "The \"PartNodes\" class is simply a dictionary (hashTable) of all the points in the points in the model.\\\n",
    "Each point is saved as a \"Node\" type. This type contains the data of each points such as its ID and coordinates.\\\n",
    "Each \"Node\" can be searched for in the \"part_nodes: PartNodes\" attribute, using the nodes ID number.\n",
    "\n",
    "Currently only one part can be created meaning only one \"part_nodes: PartNodes\" object which contains the dictionary of \"Node\"s can exist in a single model."
   ]
  },
  {
   "cell_type": "code",
   "execution_count": 3,
   "metadata": {},
   "outputs": [],
   "source": [
    "# To create a PartNodes instance in the Geometry modules, we must first have some point with which we define the models geometry.\n",
    "# I have used a simple example of a rectangular plate with a hole in the middle.\n",
    "# The data is read from a txt file that conatins coordinates of each point -> each line index in the txt file represents an ID of a point.\n",
    "# So the points are wirtten in ascending order in terms of ID!s \n",
    "# We also define a \"dx\" variable which will store the distance between two neighboring points.\n",
    "# Using this dx we also create an array that stores the are of each point.\n",
    "coordVec = np.loadtxt(fname= \"../Testing data/DCB-coordVec2.txt\")/1000\n",
    "dx = coordVec[1,0] - coordVec[0,0] \n",
    "nodeVolumes = np.loadtxt(fname= \"../testing data/DCB-volumes2.txt\")/1000\n",
    "# inclusionIds = np.loadtxt(fname= \"../Testing input data/inclusionPlate-inclusionIds.txt\",dtype=np.int64)\n",
    "# matrixIds = np.loadtxt(fname= \"../Testing input data/inclusionPlate-matrixIds.txt\",dtype=np.int64)"
   ]
  },
  {
   "cell_type": "code",
   "execution_count": 4,
   "metadata": {},
   "outputs": [],
   "source": [
    "# To define the geometry od the model, we access the geometry modules method \"input_part_nodes\"\n",
    "# This method takes array of points coordinates and an aray of point areas and creates the \"PartNodes\" instance and saves it in \n",
    "# the \"part_nodes: PartNodes\" attribute of the Geometry class.\n",
    "model0.Geometry.input_part_nodes(inputCoordinates=coordVec,inputVolumes=nodeVolumes)"
   ]
  },
  {
   "cell_type": "code",
   "execution_count": 5,
   "metadata": {},
   "outputs": [
    {
     "data": {
      "text/plain": [
       "[0, [0.0, 0.0], 0.004]"
      ]
     },
     "execution_count": 5,
     "metadata": {},
     "output_type": "execute_result"
    }
   ],
   "source": [
    "# If we now use the \"get_part_nodes\" method on the \"part_nodes\" attribute (which is now of type \"PartNodes\"),\n",
    "#we can return all the nodes in the model\n",
    "part_nodes = model0.Geometry.part_nodes.get_part_nodes()\n",
    "#model0.Geometry.part_nodes.get_part_nodes()\n",
    "\n",
    "# As we can see, this return the dictionary stored in the \"PartNodes\" instance.\n",
    "# The (Key,Value) pairs represent the ID of a node and the node itself (as a type) -> (ID, \"Node\")\n",
    "\n",
    "# We can also call a specific node and then its attributes in the following way\n",
    "part_nodes[0].all_data()\n"
   ]
  },
  {
   "cell_type": "markdown",
   "metadata": {},
   "source": [
    "# Data module\n",
    "\n",
    "The data module is meant to hold general data objects such as sets. It is structured so that we have a \"Sets\" class that stores many \"Set\" object instances. Currenlty sets are used only to store ID's as is explained in the following code"
   ]
  },
  {
   "cell_type": "code",
   "execution_count": 6,
   "metadata": {},
   "outputs": [],
   "source": [
    "# We can also define specific sets of points.\n",
    "# For example lets create a set for each laoding condition we want tin the model.\n",
    "# Lets go for a stretch in the y deirection. Both the top and bottom points should be displaced upward and downward respectively.\n",
    "# Because the point were saved in the txt file in a specific way, we define\n",
    "totint,totbottom,tottop =9684, 9984, 80601 #number of points in main reagion of plate, number of points in omain and bottom set, total number of internal bottom and top points combined\n",
    "ndivx,nnum =800, coordVec.shape[0]\n",
    "# To define a set, we go into the goemtry module and into the \"sets: Sets\" attribute of the geometry module.\n",
    "# This attribute is a Sets type which stores a table of all sets in the model. \n",
    "# To create a set we call the \"create_set()\" method of the \"Sets\" type and input the list of node ID's we want in the set and the sets name!\n",
    "# changed_top = np.array([range(nnum-3*201,nnum-3*201+50),range(nnum-2*201,nnum-2*201+50),range(nnum-1*201,nnum-1*201+50)],dtype=np.int64).flatten()\n",
    "model0.Geometry.sets.create_set(np.arange(0,nnum/2,1,dtype=int),setName=\"botHalf\")\n",
    "model0.Geometry.sets.create_set(np.arange(nnum-nnum/2,nnum,1,dtype=int),setName=\"topHalf\")\n",
    "model0.Geometry.sets.create_set(np.array([199 + i*200 for i in range(30)],dtype=int),setName=\"RightFixture\")\n",
    "model0.Geometry.sets.create_set(np.array([(10*200)+10],dtype=int),setName=\"LeftDownLoad\")\n",
    "model0.Geometry.sets.create_set(np.array([(20*200)+10],dtype=int),setName=\"LeftUpLoad\")"
   ]
  },
  {
   "cell_type": "code",
   "execution_count": 7,
   "metadata": {},
   "outputs": [],
   "source": [
    "# As can be seen from the code below, \"sets\" contains multiple \"Set\" instances. We can access the table of \"Set\" instances as shown below.\n",
    "# Each \"Set\" instance contains the name of the set and the array of ID's of the nodes in the set.\n",
    "SetIDs = model0.Geometry.sets.setTable[\"botHalf\"].get_data()\n",
    "SetIDs2 = model0.Geometry.sets.setTable[\"topHalf\"].get_data()\n",
    "SetIDs3 = model0.Geometry.sets.setTable[\"RightFixture\"].get_data()\n",
    "SetIDs4 = model0.Geometry.sets.setTable[\"LeftUpLoad\"].get_data()\n",
    "SetIDs5 = model0.Geometry.sets.setTable[\"LeftDownLoad\"].get_data()\n",
    "botHalfSet = model0.Geometry.sets.setTable[\"botHalf\"]\n",
    "topHalfSet = model0.Geometry.sets.setTable[\"topHalf\"]\n",
    "rightFixSet = model0.Geometry.sets.setTable[\"RightFixture\"]\n",
    "LeftUpLoadSet = model0.Geometry.sets.setTable[\"LeftUpLoad\"]\n",
    "LeftDownLoadSet = model0.Geometry.sets.setTable[\"LeftDownLoad\"]"
   ]
  },
  {
   "cell_type": "code",
   "execution_count": 8,
   "metadata": {},
   "outputs": [
    {
     "data": {
      "image/png": "[encoded data removed]",
      "text/plain": [
       "<Figure size 1000x1000 with 1 Axes>"
      ]
     },
     "metadata": {},
     "output_type": "display_data"
    }
   ],
   "source": [
    "# Graphical representation of the plate with a hole. The blue points are the points in the first set and the red points are from the second set.\n",
    "fig = plt.figure(figsize=(10,10))\n",
    "ax = fig.add_subplot()\n",
    "# ax.scatter(coordVec[:,0],coordVec[:,1],s =1)\n",
    "ax.scatter(coordVec[SetIDs,0],coordVec[SetIDs,1],s=0.6,c = \"r\")\n",
    "ax.scatter(coordVec[SetIDs2,0],coordVec[SetIDs2,1],s=0.6,c = \"b\")\n",
    "ax.scatter(coordVec[SetIDs3,0],coordVec[SetIDs3,1],s=10,c = \"green\")\n",
    "ax.set_aspect(1)"
   ]
  },
  {
   "cell_type": "markdown",
   "metadata": {},
   "source": [
    "# Material Module\n",
    "\n",
    "This module works in mostly the same way as the data module. The  main class is the \"Materials\" class which lets us create single \"Materil\" type instances that are then stored in the \"Materials\" modules \"materialTable\" dictionary."
   ]
  },
  {
   "cell_type": "code",
   "execution_count": 9,
   "metadata": {},
   "outputs": [],
   "source": [
    "model0.Materials.create_material(materialName=\"Steel1\")\n",
    "model0.Materials.materialsTable[\"Steel1\"].set_tensile_properties(youngMod = 280e9, poisson =0.25)\n",
    "model0.Materials.materialsTable[\"Steel1\"].get_material_properties()\n",
    "\n",
    "model0.Materials.create_material(materialName=\"Steel2\")\n",
    "model0.Materials.materialsTable[\"Steel2\"].set_tensile_properties(youngMod = 280e9, poisson =0.25)\n",
    "model0.Materials.materialsTable[\"Steel2\"].get_material_properties()\n",
    "\n",
    "model0.Materials.create_material(materialName=\"InterfaceSteel\")\n",
    "model0.Materials.materialsTable[\"InterfaceSteel\"].set_tensile_properties(youngMod = 180e9, poisson =0.25)\n",
    "model0.Materials.materialsTable[\"InterfaceSteel\"].get_material_properties()\n",
    "\n",
    "steel1 = model0.Materials.materialsTable[\"Steel1\"]\n",
    "steel1.set_stretch_thresholds(damageInitStretch=0.7, breakageStretch=0.4)\n",
    "steel2 = model0.Materials.materialsTable[\"Steel2\"]\n",
    "steel2.set_stretch_thresholds(damageInitStretch=0.7, breakageStretch=0.4)\n",
    "interface_steel = model0.Materials.materialsTable[\"InterfaceSteel\"]\n",
    "interface_steel.set_stretch_thresholds(damageInitStretch=0.05, breakageStretch=0.1)"
   ]
  },
  {
   "cell_type": "code",
   "execution_count": 10,
   "metadata": {},
   "outputs": [
    {
     "data": {
      "text/plain": [
       "array([   0,    1,    2, ..., 2997, 2998, 2999])"
      ]
     },
     "execution_count": 10,
     "metadata": {},
     "output_type": "execute_result"
    }
   ],
   "source": [
    "botHalfSet.get_data()"
   ]
  },
  {
   "cell_type": "code",
   "execution_count": 11,
   "metadata": {},
   "outputs": [],
   "source": [
    "model0.Geometry.sets.create_set(arrayOfIDs=botHalfSet.get_data(), setName = \"BotSteel1Section\")\n",
    "model0.Geometry.sets.create_set(arrayOfIDs=topHalfSet.get_data(), setName = \"TopSteel2Section\")\n",
    "model0.MaterialSections.create(nodeSet=model0.Geometry.sets.setTable[\"BotSteel1Section\"],material=steel1, name = \"Steel1Section\")\n",
    "model0.MaterialSections.create(nodeSet=model0.Geometry.sets.setTable[\"TopSteel2Section\"],material=steel2, name = \"Steel2Section\")"
   ]
  },
  {
   "cell_type": "code",
   "execution_count": 12,
   "metadata": {},
   "outputs": [],
   "source": [
    "steel1Section = model0.MaterialSections.materialSectionsTable[\"Steel1Section\"]\n",
    "steel2Section = model0.MaterialSections.materialSectionsTable[\"Steel2Section\"]"
   ]
  },
  {
   "cell_type": "code",
   "execution_count": 13,
   "metadata": {},
   "outputs": [],
   "source": [
    "model0.MaterialInterfaces.create(materialSection1=steel1Section,materialSection2=steel2Section,material=interface_steel)"
   ]
  },
  {
   "cell_type": "markdown",
   "metadata": {},
   "source": [
    "# Discretisaton module\n",
    "\n",
    "Again... we have a main \"Discretisations\" class through which we create single \"Discretisation\" type instances. "
   ]
  },
  {
   "cell_type": "code",
   "execution_count": 14,
   "metadata": {},
   "outputs": [],
   "source": [
    "model0.Discretizations.create_discretization(\"TestDisc\")"
   ]
  },
  {
   "cell_type": "code",
   "execution_count": 15,
   "metadata": {},
   "outputs": [],
   "source": [
    "model0.Discretizations.discretizationsTable[\"TestDisc\"].set_horizon(3*dx)\n",
    "model0.Discretizations.discretizationsTable[\"TestDisc\"].create_crack(p1x = -0.1,p2x = 0.0999,p1y = 0.029,p2y = 0.029)\n",
    "model0.Discretizations.discretizationsTable[\"TestDisc\"].generate_bonds(partNodes = model0.Geometry.part_nodes)"
   ]
  },
  {
   "cell_type": "code",
   "execution_count": 16,
   "metadata": {},
   "outputs": [],
   "source": [
    "# model0.Discretizations.discretizationsTable[\"TestDisc\"].initialCracks"
   ]
  },
  {
   "cell_type": "code",
   "execution_count": 17,
   "metadata": {},
   "outputs": [
    {
     "data": {
      "text/plain": [
       "True"
      ]
     },
     "execution_count": 17,
     "metadata": {},
     "output_type": "execute_result"
    }
   ],
   "source": [
    "model0.Discretizations.discretizationsTable[\"TestDisc\"].is_crack_active()"
   ]
  },
  {
   "cell_type": "code",
   "execution_count": 18,
   "metadata": {},
   "outputs": [],
   "source": [
    "testDisc = model0.Discretizations.discretizationsTable[\"TestDisc\"]\n",
    "model0.Discretizations.set_selected_discretization(DiscretizationName=\"TestDisc\")"
   ]
  },
  {
   "cell_type": "code",
   "execution_count": 19,
   "metadata": {},
   "outputs": [
    {
     "data": {
      "image/png": "[encoded data removed]",
      "text/plain": [
       "<Figure size 2000x2000 with 1 Axes>"
      ]
     },
     "metadata": {},
     "output_type": "display_data"
    }
   ],
   "source": [
    "data = testDisc.get_node_family_coords(3060)\n",
    "fig = plt.figure(figsize=(20,20))\n",
    "ax = fig.add_subplot()\n",
    "size=0.5\n",
    "ax.scatter(coordVec[:,0],coordVec[:,1],s = size)\n",
    "ax.scatter(coordVec[SetIDs,0],coordVec[SetIDs,1],c = \"r\",s=size)\n",
    "ax.scatter(coordVec[SetIDs2,0],coordVec[SetIDs2,1],c = \"b\",s=size)\n",
    "ax.scatter(data[:,0],data[:,1],s=5,c=\"green\")\n",
    "ax.set_aspect(1)\n",
    "# plt.xlim(0.035,0.04)\n",
    "# plt.ylim(0.0,0.0024)"
   ]
  },
  {
   "cell_type": "markdown",
   "metadata": {},
   "source": [
    "# Loads module"
   ]
  },
  {
   "cell_type": "code",
   "execution_count": 20,
   "metadata": {},
   "outputs": [],
   "source": [
    "#Not needed since i want to apply a uniform displacement field\n",
    "model0.Loads.create_disp_load(nodeSet = rightFixSet, dispX = 0.0, dispY= 0.0, name=\"RightFixture\")\n",
    "model0.Loads.create_disp_load(nodeSet = LeftUpLoadSet,dispY = 0.03, name=\"LeftLoadUp\")\n",
    "model0.Loads.create_disp_load(nodeSet = LeftDownLoadSet,dispY = -0.03, name=\"LeftLoadDown\")"
   ]
  },
  {
   "cell_type": "markdown",
   "metadata": {},
   "source": [
    "# PDFatigueModel"
   ]
  },
  {
   "cell_type": "code",
   "execution_count": 21,
   "metadata": {},
   "outputs": [],
   "source": [
    "fatigueModelData = FatigueInputData(numModel = model0)"
   ]
  },
  {
   "cell_type": "code",
   "execution_count": 22,
   "metadata": {},
   "outputs": [],
   "source": [
    "lines = np.zeros(shape=(testDisc.neighbors.shape[0],4))\n",
    "for point in range(coordVec.shape[0]):\n",
    "    for bond in range(testDisc.start_idx[point],testDisc.end_idx[point]):\n",
    "        j_point_id = testDisc.neighbors[bond]\n",
    "        lines[bond,0] = coordVec[point,0]\n",
    "        lines[bond,1] = coordVec[point,1]\n",
    "        lines[bond,2] = coordVec[j_point_id,0]\n",
    "        lines[bond,3] = coordVec[j_point_id,1]"
   ]
  },
  {
   "cell_type": "code",
   "execution_count": 23,
   "metadata": {},
   "outputs": [
    {
     "data": {
      "image/png": "[encoded data removed]",
      "text/plain": [
       "<Figure size 1500x800 with 1 Axes>"
      ]
     },
     "metadata": {},
     "output_type": "display_data"
    }
   ],
   "source": [
    "import matplotlib.pyplot as plt\n",
    "import matplotlib\n",
    "\n",
    "# Create a new figure\n",
    "fig, ax = plt.subplots(figsize=(15, 8))\n",
    "# Loop through each line and plot it\n",
    "for line in range(lines.shape[0]):\n",
    "    if line%500 == 0:\n",
    "        if fatigueModelData.bondMaterialIDarray[line] == 0:\n",
    "            color = \"g\"\n",
    "            linewidth = 0.1\n",
    "        elif fatigueModelData.bondMaterialIDarray[line] == 1:\n",
    "            color = \"r\"\n",
    "            linewidth = 0.1\n",
    "        elif fatigueModelData.bondMaterialIDarray[line] == 2:\n",
    "            color = \"k\"\n",
    "            linewidth = 0.1\n",
    "        else:\n",
    "            color = \"b\"\n",
    "            linewidth = 0.5\n",
    "    # Extract x and y coordinates for the line\n",
    "        x_values = [lines[line,0],lines[line,2]]\n",
    "        y_values = [lines[line,1],lines[line,3]]\n",
    "\n",
    "    # Plot the line\n",
    "        ax.plot(x_values, y_values,linewidth = linewidth, c=color)\n",
    "\n",
    "ax.set_aspect(1)\n",
    "# Set plot title and labels\n",
    "plt.title('Lines Plot')\n",
    "plt.xlabel('X-axis')\n",
    "plt.ylabel('Y-axis')\n",
    "plt.gca().set_aspect(1)\n",
    "# Display the plot\n",
    "plt.grid(True)\n"
   ]
  },
  {
   "cell_type": "code",
   "execution_count": 24,
   "metadata": {},
   "outputs": [
    {
     "name": "stdout",
     "output_type": "stream",
     "text": [
      "Iteration 0\n",
      "Residual force norm =  0.0008664416289856369\n",
      "Change of residual from previous step: 0.9991335583710144\n",
      "Iteration 1\n",
      "Residual force norm =  0.0005726395173881738\n",
      "Change of residual from previous step: 0.33909048430812827\n",
      "Iteration 2\n",
      "Residual force norm =  0.00046656480102469366\n",
      "Change of residual from previous step: 0.1852382050880632\n",
      "Iteration 3\n",
      "Residual force norm =  0.00039812186134535743\n",
      "Change of residual from previous step: 0.14669546337190098\n",
      "Iteration 4\n",
      "Residual force norm =  0.0003324449394033202\n",
      "Change of residual from previous step: 0.1649668815475187\n",
      "Iteration 5\n",
      "Residual force norm =  0.0002901815888551873\n",
      "Change of residual from previous step: 0.12712887320224553\n",
      "Iteration 6\n",
      "Residual force norm =  0.0002516840866915171\n",
      "Change of residual from previous step: 0.13266693560935072\n",
      "Iteration 7\n"
     ]
    }
   ],
   "source": [
    "solver = PDFatigueSolver(numModel=model0)\n",
    "solver.FID.num_max_it = 30\n",
    "solver.solve_for_static_eq() # change the BCvec!!! Roght now its only a temporary fix!!! The last input in the BC vec was wrong somehow!\n",
    "#forceDensVec = solver.solve_lin_sys(disps = disps.flatten())"
   ]
  },
  {
   "cell_type": "code",
   "execution_count": null,
   "metadata": {},
   "outputs": [],
   "source": [
    "disp = solver.result\n",
    "coordVecNew4 = coordVec + disp\n",
    "# coordVecNew4 = displaced_coordVec\n",
    "# disp = disps"
   ]
  },
  {
   "cell_type": "code",
   "execution_count": null,
   "metadata": {},
   "outputs": [],
   "source": [
    "point_damage = np.zeros_like(solver.FID.n_neighbors,dtype=float)\n",
    "bond_life = solver.FID.curLiveBonds\n",
    "strt = solver.FID.start_idx\n",
    "end = solver.FID.end_idx\n",
    "for point in range(solver.FID.coordVec.shape[0]): \n",
    "    point_damage[point] = 1.0 - (np.sum(bond_life[strt[point]:end[point]]))/np.float64(solver.FID.n_neighbors[point])\n",
    "    \n",
    "# bond_stifnesses = solver.gen_bond_stiffness_matrices()\n",
    "# bond_displacement_diff = solver.gen_bond_displacement_vecs(disps)\n",
    "# force_dens_vecs = pddo.generate_force_dens_vecs(bond_stifnesses,bond_displacement_diff)\n",
    "# bond_lens = pddo.calc_bondLenghts(solver.FID.coordVec,solver.FID.neighbors,solver.FID.start_idx,solver.FID.end_idx)\n",
    "# bond_len_change = solver.calc_bond_stretches(coordVecNew4) * bond_lens\n",
    "# bond_micro_potentials = np.linalg.norm(force_dens_vecs,axis=1) * bond_len_change /2\n",
    "# point_SED = pddo.family_integration(solver.FID.neighbors,solver.FID.start_idx,solver.FID.end_idx,bond_micro_potentials,solver.FID.ptVolumes)/2"
   ]
  },
  {
   "cell_type": "code",
   "execution_count": null,
   "metadata": {},
   "outputs": [],
   "source": [
    "s = 2\n",
    "#mycmap = matplotlib.colors.LinearSegmentedColormap.from_list(\"custom\",[\"blue\",\"royalblue\",\"cyan\",\"mediumspringgreen\",\"springgreen\",\"lime\",\"lawngreen\",\"yellow\",\"orange\",\"tomato\",\"red\"],N=11)\n",
    "mycmap = matplotlib.colors.LinearSegmentedColormap.from_list(\"custom\",[\"blue\",\"royalblue\",\"cyan\",\"mediumspringgreen\",\"springgreen\",\"lime\",\"lawngreen\",\"yellow\",\"orange\",\"tomato\",\"red\"])\n",
    "#mycmap = matplotlib.colors.LinearSegmentedColormap.from_list(\"custom\",[\"blue\",\"cyan\",\"green\",\"yellow\",\"orange\",\"red\"])\n",
    "fig1 = plt.figure(figsize=(22,12))\n",
    "\n",
    "## Nedeformirana oblika\n",
    "ax0 = fig1.add_subplot(2,3,1)\n",
    "# ax0.plot(coordVec[:,0],coordVec[:totint,1],'co',markersize=1)\n",
    "# ax0.plot(coordVec[totint:totbottom,0],coordVec[totint:totbottom,1],\"ro\",markersize=1)\n",
    "ax0.plot(coordVec[:,0],coordVec[:,1],\"bo\",markersize=1)\n",
    "ax0.set_aspect(\"1\")\n",
    "plt.xlabel(\"x [m]\")\n",
    "plt.ylabel(\"y [m]\")\n",
    "\n",
    "##Deformirana oblika\n",
    "ax1 = fig1.add_subplot(2,3,2)\n",
    "ax1.plot(coordVecNew4[:,0],coordVecNew4[:,1],'co',markersize=s)\n",
    "# ax1.plot(coordVecNew4[:,0],coordVecNew4[:,1],\"ro\",markersize=s)\n",
    "# ax1.plot(coordVecNew4[:,0],coordVecNew4[:,1],\"bo\",markersize=s)\n",
    "ax1.set_aspect(\"1\")\n",
    "plt.xlabel(\"x [m]\")\n",
    "plt.ylabel(\"y [m]\")\n",
    "\n",
    "##Strain energy density\n",
    "ax5 = fig1.add_subplot(2,3,3)\n",
    "# sc5 = ax5.tricontourf(coordVec[:,0],coordVec[:,1],point_damage,cmap=mycmap,vmin = 0, vmax =0.5)#,c=point_SED)\n",
    "sc5 = ax5.scatter(coordVecNew4[:,0],coordVecNew4[:,1],c=point_damage*1000,s=0.1,cmap = mycmap)\n",
    "# # ax5.set_ylim(0.015,0.025)\n",
    "ax5.set_aspect(\"1\")\n",
    "# plt.title(\"SED [N/mm**2]\")\n",
    "plt.colorbar(sc5)\n",
    "# plt.xlabel(\"x [m]\")\n",
    "# plt.ylabel(\"y [m]\")\n",
    "\n",
    "## Absolutni pomiki\n",
    "ax2 = fig1.add_subplot(2,3,4)\n",
    "ax2.set_aspect(\"1\")\n",
    "#h = np.sqrt(disp[:,0]*disp[:totint,0]+disp[:totint,1]*disp[:totint,1])*1000\n",
    "h = np.sqrt(disp[:,0]*disp[:,0]+disp[:,1]*disp[:,1])*1000\n",
    "cm = plt.cm.get_cmap('RdYlBu')\n",
    "#sc = ax.scatter(coordVecNew4[:totint,0],coordVecNew4[:totint,1],s=s,c=h,cmap=mycmap)\n",
    "#p1=coordVec[:totint,0].reshape(100,100)\n",
    "#p2=coordVec[:totint,1].reshape(100,100)\n",
    "#sc = ax.contourf(p1,p2,h.reshape(100,100),cmap=mycmap)\n",
    "sc = ax2.scatter(coordVecNew4[:,0],coordVecNew4[:,1],s=s,c=h[:],cmap=mycmap)\n",
    "#sc3 = ax.scatter(coordVecNew4[totbottom:tottop,0],coordVecNew4[totbottom:tottop,1],s=s,c=h[totbottom:tottop],cmap=mycmap)\n",
    "\n",
    "plt.title(\"Pomik [mm]\")\n",
    "plt.xlabel(\"x [m]\")\n",
    "plt.ylabel(\"y [m]\")\n",
    "v= np.linspace(np.min(h),np.max(h),12,endpoint=True)\n",
    "plt.colorbar(sc,ticks=v)\n",
    "\n",
    "##Pomiki X\n",
    "ax3 = fig1.add_subplot(2,3,5)\n",
    "ax3.set_aspect(\"1\")\n",
    "# h1 = disp[:totint,0]*1000\n",
    "h1 = disp[:tottop,0]*1000\n",
    "vm=h1#np.max(disp[:tottop,0])\n",
    "cm1 = plt.cm.get_cmap('RdYlBu')\n",
    "sc1 = ax3.scatter(coordVecNew4[:,0],coordVecNew4[:,1],s=s,c=h1[:],cmap=mycmap)\n",
    "plt.title(\"Pomik v x [mm]\")\n",
    "plt.xlabel(\"x [m]\")\n",
    "plt.ylabel(\"y [m]\")\n",
    "v1= np.linspace(np.min(h1),np.max(h1),12,endpoint=True)\n",
    "# plt.colorbar(sc1,ticks=v1)\n",
    "\n",
    "##Pomiki Y\n",
    "ax4 = fig1.add_subplot(2,3,6)\n",
    "ax4.set_aspect(\"1\")\n",
    "h2 = disp[:,1]*1000\n",
    "cm2 = plt.cm.get_cmap('RdYlBu')\n",
    "#sc2 = plt.scatter(coordVecNew4[:,0],coordVecNew4[:,1],s=s,c=h2[:],cmap=mycmap)\n",
    "sc2 = plt.scatter(coordVecNew4[:,0],coordVecNew4[:,1],s=s,c=h2[:],cmap=mycmap)\n",
    "plt.title(\"Pomik v y [mm]\")\n",
    "plt.xlabel(\"x [m]\")\n",
    "plt.ylabel(\"y [m]\")\n",
    "v2= np.linspace(np.min(h2),np.max(h2),12,endpoint=True)\n",
    "# plt.colorbar(sc2,ticks=v2)"
   ]
  },
  {
   "cell_type": "code",
   "execution_count": null,
   "metadata": {},
   "outputs": [],
   "source": [
    "# fig = plt.figure(figsize=(15,10))\n",
    "# axs = fig.add_subplot()\n",
    "# # cont =axs.tricontourf(coordVec[:,0],coordVec[:,1],point_SED, levels=100,cmap=mycmap,vmin=4700,vmax=6300)\n",
    "# cont =axs.scatter(coordVec[:,0],coordVec[:,1],c=point_SED/1_000_000,cmap=mycmap,vmin = 719, vmax = 1000)\n",
    "# axs.set_ylim(0.015,0.025)\n",
    "# axs.set_aspect(1)\n",
    "# plt.colorbar(cont)"
   ]
  }
 ],
 "metadata": {
  "kernelspec": {
   "display_name": "PDenv",
   "language": "python",
   "name": "python3"
  },
  "language_info": {
   "codemirror_mode": {
    "name": "ipython",
    "version": 3
   },
   "file_extension": ".py",
   "mimetype": "text/x-python",
   "name": "python",
   "nbconvert_exporter": "python",
   "pygments_lexer": "ipython3",
   "version": "3.10.6"
  }
 },
 "nbformat": 4,
 "nbformat_minor": 2
}
