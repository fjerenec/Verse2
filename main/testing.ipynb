{
 "cells": [
  {
   "cell_type": "code",
   "execution_count": 1,
   "metadata": {},
   "outputs": [],
   "source": [
    "from NumericalModel import NumericalModel\n",
    "import numpy as np\n",
    "import matplotlib.pyplot as plt"
   ]
  },
  {
   "cell_type": "markdown",
   "metadata": {},
   "source": [
    "## \"NumericalModel\" class\n",
    "The \"NumericalModel\" type is somprised of so called \"modules\". These modules are\n",
    "1. Geometry module          ->  NumericalModel.Geometry\n",
    "2. Discretisations module   ->  NumericalModel.Discretisations\n",
    "3. Materials module         ->  NumericalModel.Materials\n",
    "4. Interactions module      ->  NumericalModel.Interactions\n",
    "\n",
    "Each module has its own main class with the same name as the module.\\\n",
    "The module itself (as in the file where the code is stored) is named with NON-prime letters, while the class inside is primed!\n",
    "\n",
    "To explain this further it is shown below that the class from each module is imported into the \"NumericalModel\" type in the following way:\n",
    "\n",
    "class NumericalModel(): \n",
    "\n",
    "    def __init__(self,name: str = \"Model\") -> None:\n",
    "        self.name = name\n",
    "        self.Geometry = geometry.Geometry()\n",
    "        self.Materials= material.Materials()\n",
    "        self.Loads = loads.BoundaryCons()\n",
    "        self.Discretizations = disretization.Discretizations()\n",
    "        self.Interactions = interactions.Interactions()\n",
    "        self.SimulationSettings = simulation_settings.SimulationSettings()\n",
    "\n",
    "This way, when we call a module in the \"NumericalModel\" instance we directly call the main class if the module with the same name.\\\n",
    "Each of the module classes will be explained during their use!"
   ]
  },
  {
   "cell_type": "markdown",
   "metadata": {},
   "source": [
    "## Create a \"NumericalModel\" instance"
   ]
  },
  {
   "cell_type": "code",
   "execution_count": 2,
   "metadata": {},
   "outputs": [],
   "source": [
    "# Create a NumericalModel\n",
    "model0 = NumericalModel()"
   ]
  },
  {
   "cell_type": "markdown",
   "metadata": {},
   "source": [
    "## Geometry module\n",
    "\n",
    "The geometry module is meant to hold the points that define the whole model. Each point is created as a \"PartNodes\" type and is saved in the \"part_nodes: PartNodes\" attribute of the Geometry class.\\\n",
    "The \"PartNodes\" class is simply a dictionary (hashTable) of all the points in the points in the model.\\\n",
    "Each point is saved as a \"Node\" type. This type contains the data of each points such as its ID and coordinates.\\\n",
    "Each \"Node\" can be searched for in the \"part_nodes: PartNodes\" attribute, using the nodes ID number.\n",
    "\n",
    "Currently only one part can be created meaning only one \"part_nodes: PartNodes\" object which contains the dictionary of \"Node\"s can exist in a single model."
   ]
  },
  {
   "cell_type": "code",
   "execution_count": 3,
   "metadata": {},
   "outputs": [],
   "source": [
    "# To create a PartNodes instance in the Geometry modules, we must first have some point with which we define the models geometry.\n",
    "# I have used a simple example of a rectangular plate with a hole in the middle.\n",
    "# The data is read from a txt file that conatins coordinates of each point -> each line index in the txt file represents an ID of a point.\n",
    "# So the points are wirtten in ascending order in terms of ID!s \n",
    "# We also define a \"dx\" variable which will store the distance between two neighboring points.\n",
    "# Using this dx we also create an array that stores the are of each point.\n",
    "coordVec = np.loadtxt(fname= \"../Testing input data/coordVec_plateWithHole.txt\")\n",
    "dx = coordVec[1,0] - coordVec[0,0] \n",
    "nodeVolumes = np.full(shape=coordVec.shape[0],fill_value= dx**2)"
   ]
  },
  {
   "cell_type": "code",
   "execution_count": 4,
   "metadata": {},
   "outputs": [],
   "source": [
    "# To define the geometry od the model, we access the geometry modules method \"input_part_nodes\"\n",
    "# This method takes array of points coordinates and an aray of point areas and creates the \"PartNodes\" instance and saves it in \n",
    "# the \"part_nodes: PartNodes\" attribute of the Geometry class.\n",
    "model0.Geometry.input_part_nodes(inputCoordinates=coordVec,inputVolumes=nodeVolumes)"
   ]
  },
  {
   "cell_type": "code",
   "execution_count": 5,
   "metadata": {},
   "outputs": [
    {
     "data": {
      "text/plain": [
       "[0, [-0.02475, -0.02475], 2.5000000000000047e-07]"
      ]
     },
     "execution_count": 5,
     "metadata": {},
     "output_type": "execute_result"
    }
   ],
   "source": [
    "# If we now use the \"get_part_nodes\" method on the \"part_nodes\" attribute (which is now of type \"PartNodes\"),\n",
    "#we can return all the nodes in the model\n",
    "part_nodes = model0.Geometry.part_nodes.get_part_nodes()\n",
    "#model0.Geometry.part_nodes.get_part_nodes()\n",
    "\n",
    "# As we can see, this return the dictionary stored in the \"PartNodes\" instance.\n",
    "# The (Key,Value) pairs represent the ID of a node and the node itself (as a type) -> (ID, \"Node\")\n",
    "\n",
    "# We can also call a specific node and then its attributes in the following way\n",
    "part_nodes[0].all_data()\n"
   ]
  },
  {
   "cell_type": "markdown",
   "metadata": {},
   "source": [
    "# Data module\n",
    "\n",
    "The data module is meant to hold general data objects such as sets. It is structured so that we have a \"Sets\" class that stores many \"Set\" object instances. Currenlty sets are used only to store ID's as is explained in the following code"
   ]
  },
  {
   "cell_type": "code",
   "execution_count": 6,
   "metadata": {},
   "outputs": [],
   "source": [
    "# We can also define specific sets of points.\n",
    "# For example lets create a set for each laoding condition we want tin the model.\n",
    "# Lets go for a stretch in the y deirection. Both the top and bottom points should be displaced upward and downward respectively.\n",
    "# Because the point were saved in the txt file in a specific way, we define\n",
    "totint,totbottom,tottop =9684, 9984, 10284 #number of points in main reagion of plate, number of points in omain and bottom set, total number of internal bottom and top points combined\n",
    "ndivx,nnum =100, 10284\n",
    "# To define a set, we go into the goemtry module and into the \"sets: Sets\" attribute of the geometry module.\n",
    "# This attribute is a Sets type which stores a table of all sets in the model. \n",
    "# To create a set we call the \"create_set()\" method of the \"Sets\" type and input the list of node ID's we want in the set and the sets name!\n",
    "model0.Geometry.sets.create_set(np.arange(totint,totbottom,1,dtype=int),setName=\"TestSet\")\n",
    "model0.Geometry.sets.create_set(np.arange(totbottom,tottop,1,dtype=int),setName=\"TestSet2\")"
   ]
  },
  {
   "cell_type": "code",
   "execution_count": 7,
   "metadata": {},
   "outputs": [],
   "source": [
    "# As can be seen from the code below, \"sets\" contains multiple \"Set\" instances. We can access the table of \"Set\" instances as shown below.\n",
    "# Each \"Set\" instance contains the name of the set and the array of ID's of the nodes in the set.\n",
    "SetIDs = model0.Geometry.sets.setTable[\"TestSet\"].get_data()\n",
    "SetIDs2 = model0.Geometry.sets.setTable[\"TestSet2\"].get_data()"
   ]
  },
  {
   "cell_type": "code",
   "execution_count": 8,
   "metadata": {},
   "outputs": [
    {
     "data": {
      "image/png": "[encoded data removed]",
      "text/plain": [
       "<Figure size 640x480 with 1 Axes>"
      ]
     },
     "metadata": {},
     "output_type": "display_data"
    }
   ],
   "source": [
    "# Graphical representation of the plate with a hole. The blue points are the points in the first set and the red points are from the second set.\n",
    "fig = plt.figure()\n",
    "ax = fig.add_subplot()\n",
    "ax.scatter(coordVec[:,0],coordVec[:,1],s =1)\n",
    "ax.scatter(coordVec[SetIDs,0],coordVec[SetIDs,1],s=0.6,c = \"r\")\n",
    "ax.scatter(coordVec[SetIDs2,0],coordVec[SetIDs2,1],s=0.6,c = \"b\")\n",
    "ax.set_aspect(1)"
   ]
  },
  {
   "cell_type": "markdown",
   "metadata": {},
   "source": [
    "# Material Module\n",
    "\n",
    "This module works in mostly the same way as the data module. The  main class is the \"Materials\" class which lets us create single \"Materil\" type instances that are then stored in the \"Materials\" modules \"materialTable\" dictionary."
   ]
  },
  {
   "cell_type": "code",
   "execution_count": 9,
   "metadata": {},
   "outputs": [
    {
     "data": {
      "text/plain": [
       "{'name': 'Steel2', 'materialID': 1, 'Emod': 70000, 'poisson': 0.25}"
      ]
     },
     "execution_count": 9,
     "metadata": {},
     "output_type": "execute_result"
    }
   ],
   "source": [
    "model0.Materials.create_material(materialName=\"Steel2\")\n",
    "model0.Materials.materialsTable[\"Steel2\"].set_tensile_properties(youngMod = 70000, poisson =0.25)\n",
    "model0.Materials.materialsTable[\"Steel2\"].get_material_vars()"
   ]
  },
  {
   "cell_type": "markdown",
   "metadata": {},
   "source": [
    "# Discretisaton module\n",
    "\n",
    "Again... we have a main \"Discretisations\" class through which we create single \"Discretisation\" type instances. "
   ]
  },
  {
   "cell_type": "code",
   "execution_count": 11,
   "metadata": {},
   "outputs": [],
   "source": [
    "model0.Discretizations.create_discretization(\"TestDisc\")"
   ]
  },
  {
   "cell_type": "code",
   "execution_count": 12,
   "metadata": {},
   "outputs": [],
   "source": [
    "model0.Discretizations.discretizationsTable[\"TestDisc\"].set_horizon(3*dx)\n",
    "model0.Discretizations.discretizationsTable[\"TestDisc\"].generate_bonds(partNodes = model0.Geometry.part_nodes)"
   ]
  },
  {
   "cell_type": "code",
   "execution_count": 13,
   "metadata": {},
   "outputs": [
    {
     "data": {
      "text/plain": [
       "False"
      ]
     },
     "execution_count": 13,
     "metadata": {},
     "output_type": "execute_result"
    }
   ],
   "source": [
    "model0.Discretizations.discretizationsTable[\"TestDisc\"].is_crack_active()"
   ]
  },
  {
   "cell_type": "code",
   "execution_count": 14,
   "metadata": {},
   "outputs": [],
   "source": [
    "testDisc = model0.Discretizations.discretizationsTable[\"TestDisc\"]"
   ]
  },
  {
   "cell_type": "code",
   "execution_count": 15,
   "metadata": {},
   "outputs": [
    {
     "data": {
      "text/plain": [
       "<matplotlib.collections.PathCollection at 0x14b8888d0>"
      ]
     },
     "execution_count": 15,
     "metadata": {},
     "output_type": "execute_result"
    },
    {
     "data": {
      "image/png": "[encoded data removed]",
      "text/plain": [
       "<Figure size 640x480 with 1 Axes>"
      ]
     },
     "metadata": {},
     "output_type": "display_data"
    }
   ],
   "source": [
    "data = testDisc.get_node_family_coords(4395)\n",
    "plt.scatter(coordVec[:,0],coordVec[:,1],s =1)\n",
    "plt.scatter(coordVec[SetIDs,0],coordVec[SetIDs,1],c = \"r\")\n",
    "plt.scatter(coordVec[SetIDs2,0],coordVec[SetIDs2,1],c = \"b\")\n",
    "plt.scatter(data[:,0],data[:,1],s=2,c=\"r\")"
   ]
  },
  {
   "cell_type": "code",
   "execution_count": null,
   "metadata": {},
   "outputs": [],
   "source": [
    "model0.run_simulation()"
   ]
  }
 ],
 "metadata": {
  "kernelspec": {
   "display_name": "PDenv",
   "language": "python",
   "name": "python3"
  },
  "language_info": {
   "codemirror_mode": {
    "name": "ipython",
    "version": 3
   },
   "file_extension": ".py",
   "mimetype": "text/x-python",
   "name": "python",
   "nbconvert_exporter": "python",
   "pygments_lexer": "ipython3",
   "version": "3.11.6"
  }
 },
 "nbformat": 4,
 "nbformat_minor": 2
}
