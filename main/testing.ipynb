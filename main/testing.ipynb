{
 "cells": [
  {
   "cell_type": "code",
   "execution_count": 2,
   "metadata": {},
   "outputs": [],
   "source": [
    "import NumericalModel"
   ]
  },
  {
   "cell_type": "code",
   "execution_count": 3,
   "metadata": {},
   "outputs": [
    {
     "ename": "AttributeError",
     "evalue": "module 'disretization' has no attribute 'Disretization'",
     "output_type": "error",
     "traceback": [
      "\u001b[1;31m---------------------------------------------------------------------------\u001b[0m",
      "\u001b[1;31mAttributeError\u001b[0m                            Traceback (most recent call last)",
      "Cell \u001b[1;32mIn [3], line 3\u001b[0m\n\u001b[0;32m      1\u001b[0m \u001b[38;5;66;03m# Create a NumericalModel type\u001b[39;00m\n\u001b[1;32m----> 3\u001b[0m \u001b[43mNumericalModel\u001b[49m\u001b[38;5;241;43m.\u001b[39;49m\u001b[43mNumericalModel\u001b[49m\u001b[43m(\u001b[49m\u001b[43m)\u001b[49m\n",
      "File \u001b[1;32ms:\\Users\\Filip\\PyProjects\\GitRepos\\Verse2\\main\\NumericalModel.py:15\u001b[0m, in \u001b[0;36mNumericalModel.__init__\u001b[1;34m(self, name)\u001b[0m\n\u001b[0;32m     13\u001b[0m \u001b[38;5;28mself\u001b[39m\u001b[38;5;241m.\u001b[39mGeometry \u001b[38;5;241m=\u001b[39m geometry\u001b[38;5;241m.\u001b[39mGeometry()\n\u001b[0;32m     14\u001b[0m \u001b[38;5;28mself\u001b[39m\u001b[38;5;241m.\u001b[39mMaterialModel \u001b[38;5;241m=\u001b[39m material_model\u001b[38;5;241m.\u001b[39mMaterialModel()\n\u001b[1;32m---> 15\u001b[0m \u001b[38;5;28mself\u001b[39m\u001b[38;5;241m.\u001b[39mDiscretization \u001b[38;5;241m=\u001b[39m \u001b[43mdisretization\u001b[49m\u001b[38;5;241;43m.\u001b[39;49m\u001b[43mDisretization\u001b[49m()\n\u001b[0;32m     16\u001b[0m \u001b[38;5;28mself\u001b[39m\u001b[38;5;241m.\u001b[39mBoundaryCons \u001b[38;5;241m=\u001b[39m boundary_cons\u001b[38;5;241m.\u001b[39mBoundaryCons()\n\u001b[0;32m     17\u001b[0m \u001b[38;5;28mself\u001b[39m\u001b[38;5;241m.\u001b[39m Interactions \u001b[38;5;241m=\u001b[39m interactions\u001b[38;5;241m.\u001b[39mInteractions()\n",
      "\u001b[1;31mAttributeError\u001b[0m: module 'disretization' has no attribute 'Disretization'"
     ]
    }
   ],
   "source": [
    "# Create a NumericalModel type\n",
    "\n",
    "NumericalModel.NumericalModel()"
   ]
  },
  {
   "cell_type": "code",
   "execution_count": null,
   "metadata": {},
   "outputs": [],
   "source": []
  }
 ],
 "metadata": {
  "kernelspec": {
   "display_name": "PDenv",
   "language": "python",
   "name": "python3"
  },
  "language_info": {
   "codemirror_mode": {
    "name": "ipython",
    "version": 3
   },
   "file_extension": ".py",
   "mimetype": "text/x-python",
   "name": "python",
   "nbconvert_exporter": "python",
   "pygments_lexer": "ipython3",
   "version": "3.9.5"
  }
 },
 "nbformat": 4,
 "nbformat_minor": 2
}
