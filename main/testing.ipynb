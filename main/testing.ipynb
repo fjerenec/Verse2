{
 "cells": [
  {
   "cell_type": "code",
   "execution_count": 1,
   "metadata": {},
   "outputs": [],
   "source": [
    "import NumericalModel\n",
    "import numpy as np\n",
    "import matplotlib.pyplot as plt"
   ]
  },
  {
   "cell_type": "code",
   "execution_count": 2,
   "metadata": {},
   "outputs": [],
   "source": [
    "# Create a NumericalModel type\n",
    "\n",
    "model0 = NumericalModel.NumericalModel()"
   ]
  },
  {
   "cell_type": "code",
   "execution_count": 3,
   "metadata": {},
   "outputs": [],
   "source": [
    "coordVec = np.loadtxt(fname= \"../Testing input data/coordVec_plateWithHole.txt\")\n",
    "dx = coordVec[1,0] - coordVec[0,0] \n",
    "nodeVolumes = np.full(shape=coordVec.shape[0],fill_value= dx**2)"
   ]
  },
  {
   "cell_type": "code",
   "execution_count": 4,
   "metadata": {},
   "outputs": [],
   "source": [
    "model0.Geometry.input_part_nodes(inputCoordinates=coordVec,inputVolumes=nodeVolumes)"
   ]
  },
  {
   "cell_type": "code",
   "execution_count": 5,
   "metadata": {},
   "outputs": [],
   "source": [
    "part_nodes = model0.Geometry.part_nodes.get_part_nodes()"
   ]
  },
  {
   "cell_type": "code",
   "execution_count": 6,
   "metadata": {},
   "outputs": [],
   "source": [
    "totint,totbottom,tottop =9684, 9984, 10284\n",
    "ndivx,nnum =100, 10284\n",
    "model0.Geometry.sets.create_set(np.arange(totint,totbottom,1,dtype=int),setName=\"TestSet\")\n",
    "model0.Geometry.sets.create_set(np.arange(totbottom,tottop,1,dtype=int),setName=\"TestSet2\")"
   ]
  },
  {
   "cell_type": "code",
   "execution_count": 7,
   "metadata": {},
   "outputs": [],
   "source": [
    "SetIDs = model0.Geometry.sets.setTable[\"TestSet\"].get_data()\n",
    "SetIDs2 = model0.Geometry.sets.setTable[\"TestSet2\"].get_data()"
   ]
  },
  {
   "cell_type": "code",
   "execution_count": 8,
   "metadata": {},
   "outputs": [
    {
     "data": {
      "text/plain": [
       "<matplotlib.collections.PathCollection at 0x111d23690>"
      ]
     },
     "execution_count": 8,
     "metadata": {},
     "output_type": "execute_result"
    },
    {
     "data": {
      "image/png": "[encoded data removed]",
      "text/plain": [
       "<Figure size 640x480 with 1 Axes>"
      ]
     },
     "metadata": {},
     "output_type": "display_data"
    }
   ],
   "source": [
    "plt.scatter(coordVec[:,0],coordVec[:,1],s =1)\n",
    "plt.scatter(coordVec[SetIDs,0],coordVec[SetIDs,1],c = \"r\")\n",
    "plt.scatter(coordVec[SetIDs2,0],coordVec[SetIDs2,1],c = \"b\")"
   ]
  },
  {
   "cell_type": "code",
   "execution_count": 9,
   "metadata": {},
   "outputs": [],
   "source": [
    "model0.Materials.create_material(materialName=\"Steel1\")"
   ]
  },
  {
   "cell_type": "code",
   "execution_count": 11,
   "metadata": {},
   "outputs": [
    {
     "ename": "SyntaxError",
     "evalue": "invalid syntax (2942456716.py, line 1)",
     "output_type": "error",
     "traceback": [
      "\u001b[0;36m  Cell \u001b[0;32mIn[11], line 1\u001b[0;36m\u001b[0m\n\u001b[0;31m    model0.Materials{\"Steel1\"}\u001b[0m\n\u001b[0m                    ^\u001b[0m\n\u001b[0;31mSyntaxError\u001b[0m\u001b[0;31m:\u001b[0m invalid syntax\n"
     ]
    }
   ],
   "source": [
    "model0.Materials.materialsTable{\"Steel1\"}"
   ]
  },
  {
   "cell_type": "code",
   "execution_count": null,
   "metadata": {},
   "outputs": [],
   "source": []
  }
 ],
 "metadata": {
  "kernelspec": {
   "display_name": "PDenv",
   "language": "python",
   "name": "python3"
  },
  "language_info": {
   "codemirror_mode": {
    "name": "ipython",
    "version": 3
   },
   "file_extension": ".py",
   "mimetype": "text/x-python",
   "name": "python",
   "nbconvert_exporter": "python",
   "pygments_lexer": "ipython3",
   "version": "3.11.6"
  }
 },
 "nbformat": 4,
 "nbformat_minor": 2
}
