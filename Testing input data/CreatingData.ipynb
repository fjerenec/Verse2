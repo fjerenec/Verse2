{
 "cells": [
  {
   "cell_type": "code",
   "execution_count": 49,
   "metadata": {},
   "outputs": [],
   "source": [
    "import numpy as np\n",
    "import matplotlib.pyplot as plt"
   ]
  },
  {
   "cell_type": "code",
   "execution_count": 50,
   "metadata": {},
   "outputs": [],
   "source": [
    "x_disc = np.arange(0,401)\n",
    "y_disc = np.arange(0,201)"
   ]
  },
  {
   "cell_type": "code",
   "execution_count": 51,
   "metadata": {},
   "outputs": [],
   "source": [
    "dx = 0.04 / 400\n",
    "dy = 0.02 / 200\n",
    "x_coords = x_disc * dx\n",
    "y_coords = y_disc * dy"
   ]
  },
  {
   "cell_type": "code",
   "execution_count": 52,
   "metadata": {},
   "outputs": [],
   "source": [
    "grid = np.meshgrid(x_coords,y_coords)"
   ]
  },
  {
   "cell_type": "code",
   "execution_count": 53,
   "metadata": {},
   "outputs": [],
   "source": [
    "coordVec = np. column_stack((grid[0].flatten(),grid[1].flatten()))"
   ]
  },
  {
   "cell_type": "code",
   "execution_count": 82,
   "metadata": {},
   "outputs": [
    {
     "ename": "SyntaxError",
     "evalue": "invalid syntax. Perhaps you forgot a comma? (3090568509.py, line 26)",
     "output_type": "error",
     "traceback": [
      "\u001b[0;36m  Cell \u001b[0;32mIn[82], line 26\u001b[0;36m\u001b[0m\n\u001b[0;31m    distance3 = ((random_xpos[i] - point[0])**2 + (random_ypos[i]7 - point[1])**2)**0.5\u001b[0m\n\u001b[0m                                                   ^\u001b[0m\n\u001b[0;31mSyntaxError\u001b[0m\u001b[0;31m:\u001b[0m invalid syntax. Perhaps you forgot a comma?\n"
     ]
    }
   ],
   "source": [
    "arr1 = []\n",
    "arr2 = []\n",
    "arr3 = []\n",
    "arr4 = []\n",
    "arr5 = []\n",
    "arr6 = []\n",
    "arr7 = []\n",
    "arr8 = []\n",
    "arr9 = []\n",
    "arr10 = []\n",
    "radius1 = 0.002\n",
    "radius2 = 0.0015\n",
    "radius3 = 0.0025\n",
    "radius4 = 0.0006\n",
    "radius5 = 0.0002\n",
    "radius6 = 0.003\n",
    "radius7 = 0.0022\n",
    "radius8 = 0.0015\n",
    "radius9 = 0.0015\n",
    "radius10 = 0.0015\n",
    "random_xpos = np.random.rand(10) * 0.04\n",
    "random_ypos = np.random.rand(10) * 0.02\n",
    "for i, point in enumerate(coordVec):\n",
    "    distance1 = ((random_xpos[i] - point[0])**2 + (random_ypos[i] - point[1])**2)**0.5\n",
    "    distance2 = ((random_xpos[i] - point[0])**2 + (random_ypos[i] - point[1])**2)**0.5\n",
    "    distance3 = ((random_xpos[i] - point[0])**2 + (random_ypos[i] - point[1])**2)**0.5\n",
    "    distance4 = ((random_xpos[i] - point[0])**2 + (random_ypos[i]- point[1])**2)**0.5\n",
    "    distance5 = ((random_xpos[i] - point[0])**2 + (random_ypos[i] - point[1])**2)**0.5\n",
    "    distance6 = ((random_xpos[i] - point[0])**2 + (random_ypos[i] - point[1])**2)**0.5\n",
    "    distance7 = ((random_xpos[i] - point[0])**2 + (random_ypos[i] - point[1])**2)**0.5\n",
    "    distance8 = ((random_xpos[i] - point[0])**2 + (random_ypos[i] - point[1])**2)**0.5\n",
    "    distance9 = ((random_xpos[i] - point[0])**2 + (random_ypos[i] - point[1])**2)**0.5\n",
    "    distance10 = ((random_xpos[i] - point[0])**2 + (random_ypos[i] - point[1])**2)**0.5\n",
    "    if distance1 <= radius1:\n",
    "        arr1.append(i)\n",
    "    if distance2 <= radius2:\n",
    "        arr2.append(i)\n",
    "    if distance3 <= radius3:\n",
    "        arr3.append(i)\n",
    "    if distance4 <= radius4:\n",
    "        arr4.append(i)\n",
    "    if distance5 <= radius5:\n",
    "        arr5.append(i)\n",
    "    if distance6 <= radius6:\n",
    "        arr6.append(i)\n",
    "    if distance7 <= radius7:\n",
    "        arr7.append(i)\n",
    "    if distance8 <= radius8:\n",
    "        arr8.append(i)\n",
    "    if distance9 <= radius9:\n",
    "        arr9.append(i)\n",
    "    if distance10 <= radius10:\n",
    "        arr10.append(i)"
   ]
  },
  {
   "cell_type": "code",
   "execution_count": 78,
   "metadata": {},
   "outputs": [
    {
     "data": {
      "image/png": "[encoded data removed]",
      "text/plain": [
       "<Figure size 640x480 with 1 Axes>"
      ]
     },
     "metadata": {},
     "output_type": "display_data"
    }
   ],
   "source": [
    "fig = plt.figure()\n",
    "ax = fig.add_subplot()\n",
    "ax.scatter(coordVec[:,0],coordVec[:,1],s=0.01)\n",
    "ax.scatter(coordVec[arr1,0],coordVec[arr1,1],s=0.01)\n",
    "ax.scatter(coordVec[arr2,0],coordVec[arr2,1],s=0.01)\n",
    "ax.scatter(coordVec[arr3,0],coordVec[arr3,1],s=0.01)\n",
    "ax.scatter(coordVec[arr4,0],coordVec[arr4,1],s=0.01)\n",
    "ax.scatter(coordVec[arr5,0],coordVec[arr5,1],s=0.01)\n",
    "ax.scatter(coordVec[arr6,0],coordVec[arr6,1],s=0.01)\n",
    "ax.scatter(coordVec[arr7,0],coordVec[arr7,1],s=0.01)\n",
    "ax.scatter(coordVec[arr8,0],coordVec[arr8,1],s=0.01)\n",
    "ax.scatter(coordVec[arr9,0],coordVec[arr9,1],s=0.01)\n",
    "ax.scatter(coordVec[arr10,0],coordVec[arr10,1],s=0.01)\n",
    "ax.set_aspect(1)\n",
    "volumes = np.full_like(coordVec,dx*dy)"
   ]
  },
  {
   "cell_type": "code",
   "execution_count": 81,
   "metadata": {},
   "outputs": [
    {
     "data": {
      "text/plain": [
       "array([0.82930826, 0.45821835, 0.60433507, 0.99823715, 0.23656416,\n",
       "       0.60627651, 0.05910016, 0.43458828, 0.60239899, 0.05595267])"
      ]
     },
     "execution_count": 81,
     "metadata": {},
     "output_type": "execute_result"
    }
   ],
   "source": [
    "random_xpos"
   ]
  },
  {
   "cell_type": "code",
   "execution_count": 61,
   "metadata": {},
   "outputs": [
    {
     "data": {
      "text/plain": [
       "array([[1.e-08, 1.e-08],\n",
       "       [1.e-08, 1.e-08],\n",
       "       [1.e-08, 1.e-08],\n",
       "       ...,\n",
       "       [1.e-08, 1.e-08],\n",
       "       [1.e-08, 1.e-08],\n",
       "       [1.e-08, 1.e-08]])"
      ]
     },
     "execution_count": 61,
     "metadata": {},
     "output_type": "execute_result"
    }
   ],
   "source": [
    "# np.savetxt(fname = \"plate_with_inclusions-coordVec\")\n",
    "# np.savetxt(fname = \"plate_with_inclusions-volumes\")\n"
   ]
  },
  {
   "cell_type": "code",
   "execution_count": null,
   "metadata": {},
   "outputs": [],
   "source": []
  }
 ],
 "metadata": {
  "kernelspec": {
   "display_name": "PDenv",
   "language": "python",
   "name": "python3"
  },
  "language_info": {
   "codemirror_mode": {
    "name": "ipython",
    "version": 3
   },
   "file_extension": ".py",
   "mimetype": "text/x-python",
   "name": "python",
   "nbconvert_exporter": "python",
   "pygments_lexer": "ipython3",
   "version": "3.11.6"
  }
 },
 "nbformat": 4,
 "nbformat_minor": 2
}
